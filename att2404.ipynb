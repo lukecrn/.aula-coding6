{
 "cells": [
  {
   "cell_type": "markdown",
   "metadata": {},
   "source": [
    "Aluno: Pedro Lucas Carneiro da Silva\n",
    "Turma: TADS036\n",
    "Data: 26/04/24"
   ]
  },
  {
   "cell_type": "code",
   "execution_count": 1,
   "metadata": {},
   "outputs": [],
   "source": [
    "# Lista Vazia:\n",
    "L = []"
   ]
  },
  {
   "cell_type": "code",
   "execution_count": 15,
   "metadata": {},
   "outputs": [],
   "source": [
    "# Construtor de listas\n",
    "L = list()"
   ]
  },
  {
   "cell_type": "code",
   "execution_count": 8,
   "metadata": {},
   "outputs": [],
   "source": [
    "# Lista com 3 elementos:\n",
    "dias = [3, 1, 10]"
   ]
  },
  {
   "cell_type": "code",
   "execution_count": 13,
   "metadata": {},
   "outputs": [
    {
     "data": {
      "text/plain": [
       "3"
      ]
     },
     "execution_count": 13,
     "metadata": {},
     "output_type": "execute_result"
    }
   ],
   "source": [
    "dias[0]"
   ]
  },
  {
   "cell_type": "code",
   "execution_count": 11,
   "metadata": {},
   "outputs": [
    {
     "data": {
      "text/plain": [
       "1"
      ]
     },
     "execution_count": 11,
     "metadata": {},
     "output_type": "execute_result"
    }
   ],
   "source": [
    "dias[1]"
   ]
  },
  {
   "cell_type": "code",
   "execution_count": 12,
   "metadata": {},
   "outputs": [
    {
     "data": {
      "text/plain": [
       "10"
      ]
     },
     "execution_count": 12,
     "metadata": {},
     "output_type": "execute_result"
    }
   ],
   "source": [
    "dias[2]"
   ]
  },
  {
   "cell_type": "code",
   "execution_count": 21,
   "metadata": {},
   "outputs": [],
   "source": [
    "# Modificando listas:\n",
    "Z = [3, 8, 9]"
   ]
  },
  {
   "cell_type": "code",
   "execution_count": 22,
   "metadata": {},
   "outputs": [
    {
     "data": {
      "text/plain": [
       "[7, 8, 9]"
      ]
     },
     "execution_count": 22,
     "metadata": {},
     "output_type": "execute_result"
    }
   ],
   "source": [
    "Z[0] = 7 # Trocando o número que está na posição 0 por 7\n",
    "Z"
   ]
  },
  {
   "cell_type": "code",
   "execution_count": 20,
   "metadata": {},
   "outputs": [
    {
     "name": "stdout",
     "output_type": "stream",
     "text": [
      "True\n",
      "True\n",
      "[5, 7, 5, 8, 9]\n",
      "[5, 7, 5, 8, 9]\n"
     ]
    }
   ],
   "source": [
    "V = [6, 7, 5, 8, 9]\n",
    "L = V # Uma forma pra chamar V, que nem criar uma variável\n",
    "print(V==L) # V é igual a L\n",
    "print(V is L) # Perguntando se V é L\n",
    "V[0] = 5 # Trocando o número que está na posição 0 por 5\n",
    "print(V)\n",
    "print(L)"
   ]
  },
  {
   "cell_type": "code",
   "execution_count": 23,
   "metadata": {},
   "outputs": [
    {
     "name": "stdout",
     "output_type": "stream",
     "text": [
      "True\n",
      "False\n",
      "[81, 82, 83]\n",
      "[5, 82, 83]\n"
     ]
    }
   ],
   "source": [
    "a = [81, 82, 83] # Lista com o nome a\n",
    "b = a[:] # Cria um clone com fatia\n",
    "print(a == b) \n",
    "print(a is b)\n",
    "b[0] = 5 # Trocando o número que está na posição 0 por 5\n",
    "print(a)\n",
    "print(b)"
   ]
  },
  {
   "cell_type": "code",
   "execution_count": 27,
   "metadata": {},
   "outputs": [
    {
     "name": "stdout",
     "output_type": "stream",
     "text": [
      "['b', 'c']\n",
      "['a', 'b', 'c', 'd']\n",
      "['d', 'e', 'f']\n",
      "['a', 'b', 'c', 'd', 'e', 'f']\n"
     ]
    }
   ],
   "source": [
    "uma_lista = ['a', 'b', 'c', 'd', 'e', 'f']\n",
    "#             0    1    2    3    4    5\n",
    "             \n",
    "print(uma_lista[1:3]) # Ele conta da letra da posição 1 até a posição 3, porém ele corta -1\n",
    "print(uma_lista[:4]) # Ele conta até a posição 4\n",
    "print(uma_lista[3:]) # Ele conta da posição 3 até a última posição (5)\n",
    "print(uma_lista[:]) # Ele conta a posição 0 até a ultima posição (5)"
   ]
  },
  {
   "cell_type": "code",
   "execution_count": 29,
   "metadata": {},
   "outputs": [
    {
     "ename": "IndexError",
     "evalue": "list index out of range",
     "output_type": "error",
     "traceback": [
      "\u001b[1;31m---------------------------------------------------------------------------\u001b[0m",
      "\u001b[1;31mIndexError\u001b[0m                                Traceback (most recent call last)",
      "Cell \u001b[1;32mIn[29], line 6\u001b[0m\n\u001b[0;32m      4\u001b[0m b \u001b[38;5;241m=\u001b[39m a[:]\n\u001b[0;32m      5\u001b[0m b[\u001b[38;5;241m0\u001b[39m] \u001b[38;5;241m=\u001b[39m \u001b[38;5;241m5\u001b[39m\n\u001b[1;32m----> 6\u001b[0m \u001b[38;5;28mprint\u001b[39m(\u001b[43ma\u001b[49m\u001b[43m[\u001b[49m\u001b[38;5;241;43m3\u001b[39;49m\u001b[43m]\u001b[49m)\n\u001b[0;32m      8\u001b[0m \u001b[38;5;66;03m# Vai dar erro porque a contagem começa com 0 pra frente, não do 1, 2...\u001b[39;00m\n",
      "\u001b[1;31mIndexError\u001b[0m: list index out of range"
     ]
    }
   ],
   "source": [
    "# 1- O que será impresso na seguinte sequência de comando?\n",
    "\n",
    "a = [1, 2, 3]\n",
    "b = a[:]\n",
    "b[0] = 5\n",
    "print(a[3])\n",
    "\n",
    "# Vai dar erro porque a contagem começa com 0 pra frente, não do 1, 2..."
   ]
  },
  {
   "cell_type": "markdown",
   "metadata": {},
   "source": [
    "DESAFIO\n",
    "\n",
    "2- Crie uma lista chamada minhaLista com os seguinte itens: 76, 92.3, ''oi'', True, 4, 76. Depois execute os seguintes comandos:\n",
    "a. Inserir ''pitomba'' e 76 no final da lista\n",
    "b. Inserir o valor ''Cibele'' na posição de índice 3\n",
    "c. Inserir o valor 99 no início da lista\n",
    "d. Encontrar o índice 'oi'.\n",
    "e. Remover True da lista."
   ]
  },
  {
   "cell_type": "code",
   "execution_count": 6,
   "metadata": {},
   "outputs": [
    {
     "name": "stdout",
     "output_type": "stream",
     "text": [
      "[76, 92.3, 'oi', True, 4, 76, 'pitomba', 76]\n",
      "[76, 92.3, 'oi', 'Cibele', True, 4, 76, 'pitomba', 76]\n",
      "[99, 76, 92.3, 'oi', 'Cibele', True, 4, 76, 'pitomba', 76]\n"
     ]
    }
   ],
   "source": [
    "# Criando a lista\n",
    "minhaLista = [76, 92.3, 'oi', True, 4, 76]\n",
    "#             0,    1,    2,   3,   4,  5   \n",
    "# a)\n",
    "# Criando uma segunda lista e logo em seguida concatenar a primeira lista criada com a segunda, isso formaria uma novaLista\n",
    "segundaLista = ['pitomba', 76]\n",
    "novaLista = minhaLista + segundaLista\n",
    "print(novaLista)  \n",
    "# [76, 92.3, 'oi', True, 4, 76, 'pitomba', 76]\n",
    "#  0,   1,    2,    3,   4, 5,   6,         7\n",
    "\n",
    "# b)\n",
    "cibele = ['Cibele']  # Criei uma lista e atribui o valor Cibele\n",
    "listaNova = novaLista[:3] + cibele + novaLista[3:] # Usei o recorte da lista pra adicionar a variavel Cibele no índice 3\n",
    "print(listaNova)\n",
    "\n",
    "# c) \n",
    "valor99 = [99]\n",
    "listaNova = valor99 + listaNova\n",
    "print(listaNova)\n",
    "\n",
    "# d)\n",
    "\n",
    "# e)\n"
   ]
  },
  {
   "cell_type": "code",
   "execution_count": 1,
   "metadata": {},
   "outputs": [
    {
     "name": "stdout",
     "output_type": "stream",
     "text": [
      "0\n",
      "1\n"
     ]
    }
   ],
   "source": [
    "# Criando tupla\n",
    "\n",
    "# Tupla vazia\n",
    "tupla_vazia = ()\n",
    "\n",
    "# Função tuple\n",
    "novaTupla = tuple('Teste')\n",
    "novaTupla\n",
    "\n",
    "# Cortando elementos da tupla\n",
    "tupla_nomes = ('Marlene', 'Zezinho', 'Marlene', 'Cibele','Zuely')\n",
    "tupla_nomes.count('Marlene')\n",
    "print (tupla_nomes.count('Suely'))\n",
    "print (tupla_nomes.count('Zezinho'))"
   ]
  },
  {
   "cell_type": "markdown",
   "metadata": {},
   "source": [
    "Praticar Tuplas\n",
    "\n",
    "1) Crie uma tupla com os seguintes elementos: 1, 2, 2, 3, 4, 4, 4, 5 e depois utilize a função count do objeto tupla para verificar quantas vezes o número 4 aparece na tupla;"
   ]
  },
  {
   "cell_type": "code",
   "execution_count": 2,
   "metadata": {},
   "outputs": [
    {
     "name": "stdout",
     "output_type": "stream",
     "text": [
      "3\n"
     ]
    }
   ],
   "source": [
    "tupla_nome = (1, 2, 2, 3, 4, 4, 4, 5) # Criando a tupla\n",
    "print(tupla_nome.count(4)) # Contando"
   ]
  }
 ],
 "metadata": {
  "kernelspec": {
   "display_name": "Python 3",
   "language": "python",
   "name": "python3"
  },
  "language_info": {
   "codemirror_mode": {
    "name": "ipython",
    "version": 3
   },
   "file_extension": ".py",
   "mimetype": "text/x-python",
   "name": "python",
   "nbconvert_exporter": "python",
   "pygments_lexer": "ipython3",
   "version": "3.11.9"
  }
 },
 "nbformat": 4,
 "nbformat_minor": 2
}
